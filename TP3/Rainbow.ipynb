{
 "cells": [
  {
   "cell_type": "markdown",
   "metadata": {},
   "source": [
    "# Trabalho prático 3\n",
    "\n",
    "**Grupo 5**:\n",
    "* Duarte Oliveira \\<pg47157\\>\n",
    "* Melânia Pereira \\<pg47520\\>\n",
    "\n",
    "# Rainbow \n",
    "Criação de um protótipo em Sagemath do algoritmo Rainbow, candidato ao [concurso NIST Post-Quantum Cryptography](https://csrc.nist.gov/Projects/post-quantum-cryptography/round-3-submissions) na categoria de esquemas de assinatura digital."
   ]
  },
  {
   "cell_type": "markdown",
   "metadata": {},
   "source": [
    "# Inicialização"
   ]
  },
  {
   "cell_type": "code",
   "execution_count": null,
   "metadata": {
    "vscode": {
     "languageId": "plaintext"
    }
   },
   "outputs": [],
   "source": []
  }
 ],
 "metadata": {
  "language_info": {
   "name": "python"
  },
  "orig_nbformat": 4
 },
 "nbformat": 4,
 "nbformat_minor": 2
}
