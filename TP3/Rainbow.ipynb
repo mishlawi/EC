{
 "cells": [
  {
   "cell_type": "markdown",
   "metadata": {},
   "source": [
    "# Trabalho prático 3\n",
    "\n",
    "**Grupo 5**:\n",
    "* Duarte Oliveira \\<pg47157\\>\n",
    "* Melânia Pereira \\<pg47520\\>\n",
    "\n",
    "# Rainbow \n",
    "Criação de um protótipo em Sagemath do algoritmo Rainbow, candidato ao [concurso NIST Post-Quantum Cryptography](https://csrc.nist.gov/Projects/post-quantum-cryptography/round-3-submissions) na categoria de esquemas de assinatura digital."
   ]
  },
  {
   "cell_type": "markdown",
   "metadata": {},
   "source": [
    "# Inicialização"
   ]
  },
  {
   "cell_type": "code",
   "execution_count": 447,
   "metadata": {},
   "outputs": [],
   "source": [
    "import hashlib"
   ]
  },
  {
   "cell_type": "code",
   "execution_count": 448,
   "metadata": {},
   "outputs": [],
   "source": [
    "class RAIN:\n",
    "    #Geração dos parâmetros (Security Category V)\n",
    "    def __init__(self): \n",
    "        self.q = 256                                        \n",
    "        self.v1 = 96\n",
    "        self.o1 = 36\n",
    "        self.o2 = 64\n",
    "        \n",
    "        F.<x> = GF(self.q)\n",
    "        self.F = F"
   ]
  },
  {
   "cell_type": "code",
   "execution_count": 449,
   "metadata": {},
   "outputs": [],
   "source": [
    "class RAIN(RAIN):\n",
    "    \n",
    "    #Algoritmo de geração de chaves  \n",
    "    def keygen(self):\n",
    "        m = self.o1 + self.o2\n",
    "        n = m + self.v1\n",
    "\n",
    "        Ms = matrix.random(self.F, m, m)\n",
    "\n",
    "        while not Ms.is_invertible():\n",
    "            Ms = matrix.random(self.F, m, m)\n",
    "            \n",
    "        cs = self.genC(m)\n",
    "\n",
    "        s = self.aff(Ms,cs)\n",
    "\n",
    "        invS = Ms.inverse_of_unit()\n",
    "\n",
    "        Mt = matrix.random(self.F, n, n)\n",
    "\n",
    "        while not Mt.is_invertible():\n",
    "            Mt = matrix.random(self.F, n, n)\n",
    "        \n",
    "        ct = self.genC(n)\n",
    "        t = self.aff(Mt,ct)\n",
    "\n",
    "        invT = Mt.inverse_of_unit()\n",
    "\n",
    "        f = self.rainbowMap()\n",
    "\n",
    "        p = compose(compose(s,f),t)\n",
    "\n",
    "        sk = (invS,cs,f,invT,ct)\n",
    "        pk = p\n",
    "\n",
    "        return (sk,pk)\n",
    "\n",
    "    def genC(self,tam): # o que é o c? um escalar ou um vetor???\n",
    "        c = []\n",
    "        for i in range(tam):\n",
    "            c.append(self.F.random_element())\n",
    "        return vector(self.F,c)\n",
    "\n",
    "    def aff(self,M,c):\n",
    "        A = AffineGroup(len(M[0]),self.F)\n",
    "\n",
    "        return A(M,c)\n",
    "\n",
    "    def rainbowMap(self): #not sure se isto está certo (vi num dos videos)\n",
    "        m = self.o1 + self.o2\n",
    "        n = m + self.v1\n",
    "        \n",
    "        A = Matrix.random(self.F, n, n)\n",
    "        B = Matrix.random(self.F, n, n)\n",
    "        C = Matrix.random(self.F, n, n)\n",
    "\n",
    "        E1 = A*B\n",
    "        E2 = A*C \n",
    "\n",
    "        S = []\n",
    "        for i in range(n):\n",
    "            S.append([])\n",
    "            for j in range(n):\n",
    "                S[i].append(E1[i][j])\n",
    "        for i in range(n):\n",
    "            S.append([])\n",
    "            for j in range(n):\n",
    "                S[i+n].append(E2[i][j])\n",
    "        \n",
    "        return S\n",
    "\n",
    "        "
   ]
  },
  {
   "cell_type": "code",
   "execution_count": 453,
   "metadata": {},
   "outputs": [],
   "source": [
    "class RAIN(RAIN):\n",
    "    \n",
    "    #Algoritmo de assinatura  \n",
    "    def sign(self,sk,d):\n",
    "        (invS,cs,f,invT,ct) = sk\n",
    "\n",
    "        h = hashlib.shake_256(d.encode()).digest(int(32))\n",
    "\n",
    "        x = invS * (h - cs) #errror\n",
    "\n",
    "        y = self.invF(f,x) \n",
    "\n",
    "        z = invT * (y - ct)\n",
    "\n",
    "        return z\n",
    "\n",
    "\n",
    "    def invF(self,f,x):\n",
    "        #TODO\n",
    "        return 0"
   ]
  },
  {
   "cell_type": "code",
   "execution_count": 451,
   "metadata": {},
   "outputs": [],
   "source": [
    "class RAIN(RAIN):\n",
    "    \n",
    "    #Algoritmo de verificação  \n",
    "    def ver(self,d,z,pk):\n",
    "        h = hashlib.shake_256(d.encode()).digest(int(32))\n",
    "\n",
    "        h_ = pk(z)\n",
    "\n",
    "        if h==h_:\n",
    "            return true\n",
    "        else:\n",
    "            return false"
   ]
  },
  {
   "cell_type": "code",
   "execution_count": 452,
   "metadata": {},
   "outputs": [
    {
     "ename": "TypeError",
     "evalue": "unsupported operand type(s) for -: 'bytes' and 'sage.modules.free_module_element.FreeModuleElement_generic_dense'",
     "output_type": "error",
     "traceback": [
      "\u001b[0;31m---------------------------------------------------------------------------\u001b[0m",
      "\u001b[0;31mTypeError\u001b[0m                                 Traceback (most recent call last)",
      "\u001b[0;32m/var/folders/t0/3fmfjfd52ls2vmngjg2jq99r0000gn/T/ipykernel_52226/90834734.py\u001b[0m in \u001b[0;36m<module>\u001b[0;34m\u001b[0m\n\u001b[1;32m      4\u001b[0m \u001b[0;34m(\u001b[0m\u001b[0msk\u001b[0m\u001b[0;34m,\u001b[0m\u001b[0mpk\u001b[0m\u001b[0;34m)\u001b[0m \u001b[0;34m=\u001b[0m \u001b[0mrain\u001b[0m\u001b[0;34m.\u001b[0m\u001b[0mkeygen\u001b[0m\u001b[0;34m(\u001b[0m\u001b[0;34m)\u001b[0m\u001b[0;34m\u001b[0m\u001b[0;34m\u001b[0m\u001b[0m\n\u001b[1;32m      5\u001b[0m \u001b[0;34m\u001b[0m\u001b[0m\n\u001b[0;32m----> 6\u001b[0;31m \u001b[0mz\u001b[0m \u001b[0;34m=\u001b[0m \u001b[0mrain\u001b[0m\u001b[0;34m.\u001b[0m\u001b[0msign\u001b[0m\u001b[0;34m(\u001b[0m\u001b[0msk\u001b[0m\u001b[0;34m,\u001b[0m\u001b[0mm\u001b[0m\u001b[0;34m)\u001b[0m\u001b[0;34m\u001b[0m\u001b[0;34m\u001b[0m\u001b[0m\n\u001b[0m\u001b[1;32m      7\u001b[0m \u001b[0;34m\u001b[0m\u001b[0m\n\u001b[1;32m      8\u001b[0m \u001b[0mrain\u001b[0m\u001b[0;34m.\u001b[0m\u001b[0mver\u001b[0m\u001b[0;34m(\u001b[0m\u001b[0mm\u001b[0m\u001b[0;34m,\u001b[0m\u001b[0mz\u001b[0m\u001b[0;34m,\u001b[0m\u001b[0mpk\u001b[0m\u001b[0;34m)\u001b[0m\u001b[0;34m\u001b[0m\u001b[0;34m\u001b[0m\u001b[0m\n",
      "\u001b[0;32m/var/folders/t0/3fmfjfd52ls2vmngjg2jq99r0000gn/T/ipykernel_52226/2657375765.py\u001b[0m in \u001b[0;36msign\u001b[0;34m(self, sk, d)\u001b[0m\n\u001b[1;32m      7\u001b[0m         \u001b[0mh\u001b[0m \u001b[0;34m=\u001b[0m \u001b[0mhashlib\u001b[0m\u001b[0;34m.\u001b[0m\u001b[0mshake_256\u001b[0m\u001b[0;34m(\u001b[0m\u001b[0md\u001b[0m\u001b[0;34m.\u001b[0m\u001b[0mencode\u001b[0m\u001b[0;34m(\u001b[0m\u001b[0;34m)\u001b[0m\u001b[0;34m)\u001b[0m\u001b[0;34m.\u001b[0m\u001b[0mdigest\u001b[0m\u001b[0;34m(\u001b[0m\u001b[0mint\u001b[0m\u001b[0;34m(\u001b[0m\u001b[0mInteger\u001b[0m\u001b[0;34m(\u001b[0m\u001b[0;36m32\u001b[0m\u001b[0;34m)\u001b[0m\u001b[0;34m)\u001b[0m\u001b[0;34m)\u001b[0m\u001b[0;34m\u001b[0m\u001b[0;34m\u001b[0m\u001b[0m\n\u001b[1;32m      8\u001b[0m \u001b[0;34m\u001b[0m\u001b[0m\n\u001b[0;32m----> 9\u001b[0;31m         \u001b[0mx\u001b[0m \u001b[0;34m=\u001b[0m \u001b[0minvS\u001b[0m \u001b[0;34m*\u001b[0m \u001b[0;34m(\u001b[0m\u001b[0mh\u001b[0m \u001b[0;34m-\u001b[0m \u001b[0mcs\u001b[0m\u001b[0;34m)\u001b[0m\u001b[0;34m\u001b[0m\u001b[0;34m\u001b[0m\u001b[0m\n\u001b[0m\u001b[1;32m     10\u001b[0m \u001b[0;34m\u001b[0m\u001b[0m\n\u001b[1;32m     11\u001b[0m         \u001b[0my\u001b[0m \u001b[0;34m=\u001b[0m \u001b[0mself\u001b[0m\u001b[0;34m.\u001b[0m\u001b[0minvF\u001b[0m\u001b[0;34m(\u001b[0m\u001b[0mf\u001b[0m\u001b[0;34m,\u001b[0m\u001b[0mx\u001b[0m\u001b[0;34m)\u001b[0m\u001b[0;34m\u001b[0m\u001b[0;34m\u001b[0m\u001b[0m\n",
      "\u001b[0;31mTypeError\u001b[0m: unsupported operand type(s) for -: 'bytes' and 'sage.modules.free_module_element.FreeModuleElement_generic_dense'"
     ]
    }
   ],
   "source": [
    "rain = RAIN()\n",
    "m = 'hello'\n",
    "\n",
    "(sk,pk) = rain.keygen()\n",
    "\n",
    "z = rain.sign(sk,m)\n",
    "\n",
    "rain.ver(m,z,pk)"
   ]
  }
 ],
 "metadata": {
  "kernelspec": {
   "display_name": "SageMath 9.5",
   "language": "sage",
   "name": "SageMath-9.5"
  },
  "language_info": {
   "codemirror_mode": {
    "name": "ipython",
    "version": 3
   },
   "file_extension": ".py",
   "mimetype": "text/x-python",
   "name": "python",
   "nbconvert_exporter": "python",
   "pygments_lexer": "ipython3",
   "version": "3.9.9"
  },
  "orig_nbformat": 4
 },
 "nbformat": 4,
 "nbformat_minor": 2
}
