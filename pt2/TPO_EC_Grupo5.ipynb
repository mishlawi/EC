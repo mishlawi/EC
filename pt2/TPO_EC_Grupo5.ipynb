{
 "cells": [
  {
   "cell_type": "code",
   "execution_count": 34,
   "metadata": {},
   "outputs": [],
   "source": [
    "import os\n",
    "import time\n",
    "from cryptography.hazmat.primitives import hashes, hmac\n",
    "from cryptography.hazmat.primitives.kdf.hkdf import HKDF\n",
    "from cryptography.hazmat.primitives.ciphers.aead import AESGCM\n",
    "from cryptography.hazmat.primitives.asymmetric import dh\n",
    "from cryptography.hazmat.primitives.kdf.pbkdf2 import PBKDF2HMAC\n",
    "from cryptography.hazmat.primitives import padding"
   ]
  },
  {
   "cell_type": "markdown",
   "metadata": {},
   "source": [
    "# Exercício 1\n",
    "\n",
    "#### Neste exercício é pedido que se crie uma comunicação privada assíncrona entre um agente Emitter e um agente Receiver que cubra alguns aspetos enunciados a seguir."
   ]
  },
  {
   "cell_type": "markdown",
   "metadata": {},
   "source": [
    "Começamos por desenvolver uma função para derivar uma chave, baseada no funcionamento do protocolo DH para geração de chaves privadas e públicas. Para este protocolo, é necessário gerar parâmetros que devem ser os mesmos para os dois agentes e podem ser reutilizados.<br>\n",
    "Inicialmente, gera-se a chave privada e depois é feita a troca com uma chave pública recebida (que será do outro agente com quem se está a comunicar) que irá gerar uma chave partilhada (a mesma nos dois agentes). Esta chave é ainda passada a uma função de derivação de chaves, para permitir uma mistura de informação que a torna mais segura.<br>\n",
    "Para a chave poder ser gerada, é preciso saber a chave pública do outro agente, para isso, foi também criada uma função que devolve a chave pública gerada."
   ]
  },
  {
   "cell_type": "code",
   "execution_count": 2,
   "metadata": {},
   "outputs": [],
   "source": [
    "parameters = dh.generate_parameters(generator=2, key_size=1024)\n",
    "\n",
    "def get_public_key(private_key):\n",
    "        return private_key.public_key()\n",
    "\n",
    "def derivate_key(private_key,public):\n",
    "        shared_key = private_key.exchange(public)\n",
    "        \n",
    "        derived_key = HKDF(\n",
    "            algorithm=hashes.SHA256(),\n",
    "            length=32,\n",
    "            salt=None,\n",
    "            info=b'handshake data',\n",
    "        ).derive(shared_key)\n",
    "\n",
    "        return derived_key"
   ]
  },
  {
   "cell_type": "markdown",
   "metadata": {},
   "source": [
    "Depois da chave gerada, é o momento de enviar a mensagem para o agente Receiver.<br>\n",
    "Para isso, é primeiro gerada uma assinatura, usando o HMAC que será concatenada com a mensagem cifrada e enviada ao Receiver para que este possa verificar o remetente."
   ]
  },
  {
   "cell_type": "code",
   "execution_count": 3,
   "metadata": {},
   "outputs": [],
   "source": [
    "def auth(message,derived_key):\n",
    "        h = hmac.HMAC(derived_key, hashes.SHA256())\n",
    "        h.update(message)\n",
    "        return h.finalize()"
   ]
  },
  {
   "cell_type": "markdown",
   "metadata": {},
   "source": [
    "De seguida, é usada a função *urandom()* do pacote *os* do *python* para gerar o *nonce* necessário para cifrar a mensagem.<br>\n",
    "A cifra usada foi a AESGCM. Depois de tudo gerado e da mensagem cifrada, esta é concatenada à assinatura e ao *nonce* e enviada para o Receiver."
   ]
  },
  {
   "cell_type": "code",
   "execution_count": 43,
   "metadata": {},
   "outputs": [],
   "source": [
    "def cifraGCM(nonce,message,derived_key):\n",
    "    aesgcm = AESGCM(derived_key)\n",
    "    return aesgcm.encrypt(nonce, message, b'some associated data')\n",
    "\n",
    "def send_message(message,derived_key):\n",
    "        signature = auth(b'this is a message to check the signature',derived_key)\n",
    "        message = message.encode('utf-8')\n",
    "        nonce = os.urandom(16)\n",
    "        ct = cifraGCM(nonce,message,derived_key)\n",
    "        \n",
    "        return signature + nonce + ct"
   ]
  },
  {
   "cell_type": "markdown",
   "metadata": {},
   "source": [
    "Do lado do Receiver, os dados são recebidos e desempacotados."
   ]
  },
  {
   "cell_type": "code",
   "execution_count": 44,
   "metadata": {},
   "outputs": [],
   "source": [
    "def unpack_data(dados):\n",
    "      signature = dados[0:32]\n",
    "      nonce = dados[32:32+16]\n",
    "      ct = dados[32+16:]\n",
    "\n",
    "      return signature, nonce, ct"
   ]
  },
  {
   "cell_type": "markdown",
   "metadata": {},
   "source": [
    "Depois de ter os dados desempacotaos e separados, é necessário fazer a verificação da assinatira da mensagem recebida. Novamente, usando o HMAC."
   ]
  },
  {
   "cell_type": "code",
   "execution_count": 45,
   "metadata": {},
   "outputs": [],
   "source": [
    "def verify(signature,derived_key):\n",
    "      h = hmac.HMAC(derived_key, hashes.SHA256())\n",
    "      h.update(b'this is a message to check the signature')\n",
    "      return h.verify(signature)"
   ]
  },
  {
   "cell_type": "markdown",
   "metadata": {},
   "source": [
    "Se a assinatura for verificada, passa-se então à decifragem da mensagem pela cifra AESGCM."
   ]
  },
  {
   "cell_type": "code",
   "execution_count": 46,
   "metadata": {},
   "outputs": [],
   "source": [
    "def decifraGCM(nonce, ct, derived_key):\n",
    "    aesgcm = AESGCM(derived_key)\n",
    "    return aesgcm.decrypt(nonce, ct, b'some associated data')\n",
    "\n",
    "def read_message(ct, derived_key):\n",
    "      signature, nonce, ct = unpack_data(ct)\n",
    "      try :\n",
    "          verify(signature, derived_key)\n",
    "      except:\n",
    "          raise Exception(\"Falha na autenticidade da chave\") \n",
    "\n",
    "      texto_limpo = decifraGCM(nonce, ct, derived_key)\n",
    "    \n",
    "      return texto_limpo.decode('utf-8')"
   ]
  },
  {
   "cell_type": "markdown",
   "metadata": {},
   "source": [
    "Finalmente, enviamos a mensagem do Emitter para o Receiver."
   ]
  },
  {
   "cell_type": "code",
   "execution_count": 47,
   "metadata": {},
   "outputs": [
    {
     "name": "stdout",
     "output_type": "stream",
     "text": [
      "encrypted text: b\"g A\\xd8\\xde2z\\xdf\\xa9\\xe0\\x82%+\\xa3Y\\x9a \\x1c\\x91\\xcc#\\\\\\xf9ti\\x02z\\xf5\\x9cm\\x15\\x81\\xdb\\x94\\x81\\x14\\xd8r'\\xeb\\xe5\\x9f\\x07G\\xe7{\\x1d\\xad*\\xcb\\t\\x98X\\xb2]cD*Yk#\\x8c\\xeb\\xd2\\xf6\\xe6\\xf6\\xda$\\xf3Q\\xbc\\x93\\x0f\\x8d\\x1c}Z\\xa7\\x1f\\xec\\x93\\x05\\x1b\\x8c\\xe1\\xcc<0^\\xdf\\xa1\\xc1K\\x014\\xeb\\x83\\xc1\\xc5\\xf2\\x84F\\x04\\xb3\\xc1\\xbba8\\xa2\\x16\\x92\\xf0\\xc9\\xa6\\xf2\\xe3\\xf9\\x92\\xb9\\xdd\\xe2\\xd1\\xe3t\\xdd\\x01\\xbej\\xf9a\\x8f\\xd7\"\n",
      "decrypted text: Estruturas Criptográficas é uma unidade curricular do perfil de CSI\n"
     ]
    }
   ],
   "source": [
    "def main():\n",
    "    rv_private_key = parameters.generate_private_key()\n",
    "    em_private_key = parameters.generate_private_key()\n",
    "    em_derived_key = derivate_key(em_private_key,get_public_key(rv_private_key))\n",
    "    rv_derived_key = derivate_key(rv_private_key,get_public_key(em_private_key))\n",
    "    \n",
    "    dados = send_message(\"Estruturas Criptográficas é uma unidade curricular do perfil de CSI\", em_derived_key)\n",
    "    print('encrypted text:',dados)\n",
    "\n",
    "    try:\n",
    "        pt = read_message(dados,rv_derived_key)\n",
    "\n",
    "        print('decrypted text:', pt)\n",
    "    except:\n",
    "        print(\"Falha na autenticação da chave\")  \n",
    "\n",
    "main()"
   ]
  },
  {
   "cell_type": "markdown",
   "metadata": {},
   "source": [
    "# Exercicio 2\n",
    "## Criar uma cifra com autenticação de meta-dados a partir de um PRG\n"
   ]
  },
  {
   "cell_type": "markdown",
   "metadata": {},
   "source": [
    "Como objetivo inicial, esperava-se que o nosso grupo implementasse um gerador pseudo-aleatório do usando uma função XOF(\"extended output function\") - SHAKE256 - de forma a gerar uma sequência de palavras, cada uma com 64 bits.\n",
    "\n",
    "\n",
    "Para começar, criamos uma função que recebe a password e a partir de uma *KDF* - no nosso caso decidimos escolher a **PBKDF2HMAC**, mas também poderíamos ter usado a *HKD*. Esta decisão foi tida em conta com a leitura da documentação da lib *Crypthography*, a qual inferia que há diferentes tipos de funções de derivação para diferentes tipos de propósitos. Como o nosso objetivo seria criar uma seed para o gerador, escolhemos um dos que era recomendado. "
   ]
  },
  {
   "cell_type": "code",
   "execution_count": 61,
   "metadata": {},
   "outputs": [],
   "source": [
    "def derive_key(password):\n",
    "    salt = os.urandom(16)\n",
    "    kdf = PBKDF2HMAC(\n",
    "        algorithm=hashes.SHA256(),\n",
    "        length=32,\n",
    "        salt=salt,\n",
    "        iterations=100000,\n",
    "        )\n",
    "\n",
    "    return kdf.derive(password)"
   ]
  },
  {
   "cell_type": "markdown",
   "metadata": {},
   "source": [
    "De seguida, e conforme enunciado, era necessário criar o gerador, que tivesse um limite de palavras definido por um valor inicialmente parametrizado como **N**. Com a seed gerada pela *key derivation function* que escolhemos seria possível gerar 2^N palavras de 64 bits cada.\n",
    "Seguindo o requisitado para este projeto, era necessário usar o **SHAKE256** para definir o gerador - como se sabe o *SHAKE256* é uma *extendable-output function* e define-se o seu uso tendo em conta a necessidade de autenticação do criptograma e geração de palavras usando uma XOF. \n"
   ]
  },
  {
   "cell_type": "code",
   "execution_count": 62,
   "metadata": {},
   "outputs": [],
   "source": [
    "def prg(seed,N):\n",
    "    digest = hashes.Hash(hashes.SHAKE256(8 * pow(2,N))) # sequencia palavras 64 bits / 8 = 8 bytes\n",
    "    digest.update(seed)\n",
    "    msg = digest.finalize()\n",
    "    return msg"
   ]
  },
  {
   "cell_type": "markdown",
   "metadata": {},
   "source": [
    "A partir da sequência de bits representativa da lista de palavras, gerada pelo PRG, conseguimos aplicar a cifra **OTP**.\n",
    "Assumindo a variante construída em 1919, é necessário definir a operação *XOR* em contraste com a sua versão original, criada com adição modular. É então preciso aplicar esta operação ao processo de cifragem e decifragem, sendo que, a partir de duas sequências de bytes é aplicado o XOR a ambas.\n"
   ]
  },
  {
   "cell_type": "code",
   "execution_count": 63,
   "metadata": {},
   "outputs": [],
   "source": [
    "BLOCK = 8 # bytes; representativo de cada bloco que define uma palavra (64 bits)"
   ]
  },
  {
   "cell_type": "code",
   "execution_count": 64,
   "metadata": {},
   "outputs": [],
   "source": [
    "def pad_divide(message):\n",
    "    x = []\n",
    "    for i in range (0,len(message), BLOCK):\n",
    "        next = i+BLOCK\n",
    "        x.append(message[i:next])\n",
    "    return x"
   ]
  },
  {
   "cell_type": "markdown",
   "metadata": {},
   "source": [
    "É importante denotar o mecanismo associado a estes processos de cifragem e decifragem. Inicialmente é feito o *padding*, de forma a que os blocos de mensagens sejam garantidamente múltiplos. Após isto, e para simplicidade prática,é necessário dividir a mensagem em blocos de 8 bytes, cada um representando uma palavra."
   ]
  },
  {
   "cell_type": "code",
   "execution_count": 65,
   "metadata": {},
   "outputs": [],
   "source": [
    "def cipher(k,msg):\n",
    "    ciphertext = b''\n",
    "    pad = padding.PKCS7(64).padder()\n",
    "    \n",
    "    padded = pad.update(msg) + pad.finalize()\n",
    "    p = pad_divide(padded)\n",
    "\n",
    "    for x in range (len(p)): # Percorre blocos do texto limpo\n",
    "        for bloco, byte in enumerate(p[x]): # Percorre bytes do bloco do texto limpo\n",
    "            ciphertext += bytes([byte ^ k[x:(x+1)*BLOCK][bloco]]) # xor of 2 bit sequences plain text and cipher_key\n",
    "    return ciphertext\n"
   ]
  },
  {
   "cell_type": "code",
   "execution_count": 66,
   "metadata": {},
   "outputs": [],
   "source": [
    "\n",
    "def decipher(k,ciphertext):\n",
    "    plaintext=b''\n",
    "    \n",
    "    p=pad_divide(ciphertext)\n",
    "\n",
    "    for x in range (len(p)): # Percorre blocos do texto cifrado\n",
    "        for bloco, byte in enumerate(p[x]): # Percorre bytes do bloco do texto cifrado\n",
    "            plaintext += bytes([byte ^ k[x:(x+1)*BLOCK][bloco]]) \n",
    "    \n",
    "    # Algoritmo para retirar padding para decifragem\n",
    "    unpadder = padding.PKCS7(64).unpadder()\n",
    "    # Retira bytes adicionados \n",
    "    unpadded = unpadder.update(plaintext) + unpadder.finalize()\n",
    "    return unpadded.decode(\"utf-8\")"
   ]
  },
  {
   "cell_type": "code",
   "execution_count": 67,
   "metadata": {},
   "outputs": [
    {
     "name": "stdout",
     "output_type": "stream",
     "text": [
      "OG TEXT:  b'Ultra secret message'\n",
      "CT:   b'\\xe0\\x1bp\\x06\\xfb\\x0cR\\xda\\x14v\\x11\\xee\\x0cL\\xda>w\\x15\\xfdI%\\xbbIM'\n",
      "DT:   Ultra secret message\n"
     ]
    }
   ],
   "source": [
    "    \n",
    "cipher_key = derive_key(b'password')\n",
    "msg = prg(cipher_key,2)\n",
    "mensagem = b\"Ultra secret message\"\n",
    "\n",
    "ct = cipher(msg,mensagem)\n",
    "dt = decipher(msg,ct)\n",
    "\n",
    "\n",
    "print(\"OG TEXT: \", mensagem)\n",
    "print(\"CT:  \", ct)\n",
    "print(\"DT:  \", dt)"
   ]
  },
  {
   "cell_type": "markdown",
   "metadata": {},
   "source": [
    "# Exercício 3"
   ]
  },
  {
   "cell_type": "markdown",
   "metadata": {},
   "source": [
    "Para proceder à comparação das duas cifras, desenvolveu-se um cenário de teste onde é testado o tempo que cada uma das cifras demora a cifrar o mesmo texto."
   ]
  },
  {
   "cell_type": "code",
   "execution_count": 81,
   "metadata": {},
   "outputs": [
    {
     "name": "stdout",
     "output_type": "stream",
     "text": [
      "encrypted text: b'\\x8e\\x06\\x9e@G\\xe5\\xd6\\x1a\\xc0\\x08\\xce\\xf9}3\\xbd\\x83\\x15rN\\xedN\\xd3D\\xa3\\x00?\\xa4\\xc0=\\xa7$\\xc45\\x8c\\xa0\\x9b\\xb7\\x9d\\xe9[^\\xa1\\x06,\\xe4\\x8b\\xd1\\xbb<!\\xd3\\x12\\xac\\xd85\\xaa\\x85\\xc6\\x1f\\x88c\\xd8P,8W\\x07\\xbbZ&\\x89 \\xd8?+E\\xf3\\x84\\xe8\\x19X\\xcb\\xca\\x8ec]]\\x17\\x88\\xa7#\\xee\\xd4\\xf7>|\\xa9\\x059\\xda1S>\\xb18\\x87b\\xc5B\\x02\\xc3J`\\x95\\x1a\\xba\\xd9,\\x9c\\xb0\\xb6\\xd4\\xd9?\\x7f\\xe9\\xa2\\x84A\\x81\\x91\\xf0\\x16\\xff\\'\\xce\\xe3\\xdd\\xff\\xf4\\xf0X\\xf5\\x8cOhO!\\x96+\\xac\\x9cFJ*\\x03\\xfa\\xab\\xc4P\\x80\\xfc0\\xec\\xb3f\\x99:A\\xdag\\xd8\\xf20[&\\xa8\\xe0u.\\xaeB9E\\xe4q\\xf9(\\xc8V\\xda\\xcb\\xe6\\xc9\\xb3\\xcd\\xf9\\xf6\\xc5\\x9f\\xb65\\xd7\\x7f\\xa2q\\x8d\\x031`\\xd0\\x10\\xa6%\\x04\\xfa\\x03\\xd2C\\xc8v5\\x99\\xf9\\xa6\\x17\\x8e7\\xa3\\x02A\\xbb\\xfb\\xa5\\x02H@[x\\xf8\\x15JR\\xef\\x1a2+\\xc5n\\x07`\\xfd\\xd5\\xf4\\xa5u[E\\xeb\\xa7\\x84I\\xc0\\xb4q\\xdd\\x8f\\xeaA\\xa5\\xea\\xb2\\x0c}\\x95\\x97K\\xde\\xbd\\xa2\\xad\\x1f\\xf9\\xabZ*\\x9e\\xcb\\x11\\x1b\\r\\xd0r\\xc0\\x97\\xb5\\xcee\\xe0\\x16\\x9d\\xb2\\x9a\\x83\\x8b\\xff\\x88\\x8f\\xedf\\xe4S\\xea9\\xed\\xb1\\xe4(F\\xdf\\\\Ft\\x1c\\xfbn>\\xfcN\\x1e&>\\x80n\\xf2\\xf3T|\\xeb\\xecDWl\\xcb\\rh\\x02\\xa9m\\x94TF\\r@]\\xcb\\xc2\\x95\\x81\\x0f\\x8d\\x1eF<\\xa0o\\x85\\x08\\xed\\x03!\\xdcS\\x92\\xeae\\x89\\x13\\xce\\xf0?\\x16Pu\\xac\\xd7\\x03\\x99\\xd4\\x13J\\xd2\\xec\\xa3,4\\x88`L\\xb9\\xe772\\x9fIe&\\xe2\\xc7y\\xc9\\x16p\\xf1 \\x90V\\x13\\n\\xa2<U\\x86\\xe6\\xb4\\xe9L\\xedi0\\xf8m^\\x0e/\\xc5-\\xd4\\x9a\\xfe\\x86\\xca\\x88\\xce\\x80\\x98q!\\x99\\x9f\\xe6:\\xdc8i-\\xa23p\\xd0)\\x7f\\xc7\\xd3\\xea\\xf6\\x9ez\\x16\\xdd^]\\n\\'R:\\x02\\xf8\\x07\\xa9\\x9c\\x99\\x97\\xd1\\xfa\\xf4\\xcf\\x84\\x0f\\xcd\\xaf\\x84c\\x8c\\xe0\\xe2\\xf6\\xf1f\\x89\\x96\\xec;8w\\x84\\x97\\xe3I\\xc3\\xa7)d\\xef\\xd8\\x8e)5\\x88\\xabE9\\x8dojq\\x80=\\xfe\\x8f\\xd5|\\x8e \\x0f\\xcc?7z\\xcf.|\\xe01$\\xa0w\\x16\\xcdB\\x9d`\\x7f\\x80T\\xa4k\\xb0\\x86\\x9f\\xeb\\x9f\\x13\\xfd:\\xdd\\xe8%\\x9d\\xccW\\x8f\\xd1\\x10\\x19P\\xb9v\\xc4\\x1e\\x15\\xc2\\xab\\xfeYOT\\xadcri \\xbc\\xf92JP\\xc7\\xdax\\x0b&\\xb8\\xbfE\\x13|\\x1ciT/x(Z\\xfc\\x92r\\x0f\\xa0\\xf9\\xdba\\xea\\xee\\n\\x0f\\xb5\\xb2\\x04\\x84\\x00\\xc6\\xbaw\\x95\\xda\\xa0\\x03hy\\xc6\\x8a\\xe1\\xd6\\xd1\\x04g\\xeb\\x87B{T\\xbff\\xb9\\xda|)\\xa5/\\xea\\x8b(S\\xa5`\\xe3r\\xb0\\xad\\xa7H\\x1e\\xb0\\xcf\\xf7\\xcd\\x1c\\xbd\\xfc\\x91\\x92[X\\xd2\\xa0\\xc85\\xbbJ\\xa9\\xe9\\xf1a\\x1bu(<\\xe7h\\xef\\x80d\\x01\\x93\\x9e\\xc7\\x03fG\\xbd\\x8f\\xfa\\xbf!@\\xee\\xb1k\\xfb\\xfa\\xef_J\\xd7\\xc8\\xe7Z\\x03\\xd0\\xd3IA\\xc9i\\x10J\\x12\\xac\\xa2\\x01\\xb7D\\xb0\\xfd\\x9e\\x0c>\\x9b\\x11\\x90F\\x18\\xf4d\\xedC\\x1c\\xa1\\x9b\\xa5\\x0b\\n\\xa1s\\xd0o\\x9bl\\xbe(\\x93bY\\xfc^\\xe7\\x9c\\x82\\x06\\x1f\\xb0\\xa1\\xc3gq0\\xdb\\xe4\\xe1<I\\xac\\xbc\\xd6\\xb3\\xf0\\x18\\x96\\xbb\\x893\\x12XT\\xa7\\xa7\\x06\\'\\x12\\xfa!U]\\xdc\\x9e\\x92P\\x02\\xdd\\x05\\x06\\x84R\\xf5GA,\\x0cB\\xf0\\x05\\x90Z\\xb2*\\xb0\\xb3\\xd9]\\xdc\\xabl\\x8c\\x93\\x1e\\xfd\\xaaxH\\xe8y\\xb2n\\xf9)\\xfc\\x0f\\xe9\\xcfk\\x8e\\x97=\\x05\\x95\\x05@\\x1e\\x08\\x9e\\xbar{}\\xa0\\xa6\\x9d4\\x1b\\xca\\x86\\x00\\xfe\\x8cW\\x95D\\xdc\\xa9{\\xd7<T\\x94\\xd9B\\xbaR\\x03\\xac\"\\xdf\\x96\\xcd\\xa5\\xb1\\xa7.Sa\\x97@Qy\\xbb\\xd4\\xd4\\xcdE6\\xa9\\xe6G\\xa6\\x84\\x8fpd\\xe0<\\x9blB\\xe52+\\xdaI\\xf1\\xb0\\x1epY\\xa0\\xe4\\xa5\\xd8\\xaf\\xf7X\\xfa\\xebl\\xf1\\x02\\x84\\xf6\\x89o\\xddle\\x7f6\\x8e\\xaa|\\x8bxe\\xe3\\xe8\\x90T/\\xa4\\xd7\\x8a\\x95\\xc6\\xc2\\nK\\xbc\\ti\\xaf\\x05\"5h\\xb6\\xbfv\\x95\\x00\\xe0\\xf0{\\x02\\x9a\\xc9\\xf1\\x1ch6/\\xe6 \\r\\x19\\xc2YFel\\x19\\xe6\\x10\\x86\\xb9\\xadk2.}\\x13c/.\\x87\\xb8\\xa1FQmV\\xf1\\xe7'\n",
      "elapsed time fst: 47453000 ns\n",
      "encrypted text: b'P6\\x82\\x9bE\\xf2Y\\x92\\xca\\xc3N\\x1f\\xd0\\xe7\\x0eI\\xd4\\xba\\xc3\\xcf\\xadaZ\\xb4R\\xd7\\x15\\x8a\\xf0\\x85\\xaf\\xce\\xaf\\xf0\\x89#\\xdb\\x01\\x89\\xcc\\x10\\x17\\x0e=dQ\\x98\\x19>F7\\x9c\\xae\\x10 P[\\xec\\xe4]\\xea\\xa1S\\xa5\\xd1r\\xc1\\x7fE<7\\xc6=\\x96?\\xa2&\\x82\\xd8~\\xe1#\\x08\\xfe\\xafj\\x8d\\x99:\\xbf\\x9a\\xb4\\x7f2\\xce@6\\x10E\\x1a\\xf1\\x1bV\\xb4\\xa14e|\\xc4\\x93\\x93\\x7f\\xc6\\x16\\xee\\x8b\\xf8C\\xa0\\xbb<\\x19\\x82\\x85\\x85\\x13\\xc5\\x1d\\xd5\\x8a\\x86c\\xf3\\x99\\x0ep\\xb5mp\\x0fT\\x97\\xe7\\xe3\\xa5\\xf8\\xe8\\xc9\\xd5\\xc0\\x8e\\x0b\\x1a5Z\\xc2\\xe9d\\xdf\\x9f\\xd8i!O\\x99q\\xdcU\\xfb\\x13\\xb6\\t^&L\\xe8BT\\xa5\\xb3rS\\xcd\\xf9M\\xf4\\xa1\\x96\\xc8\\n\\xfc\\xf0\\x80\\xd2\\x11\\xbc\\xb1k-\\xe9\\x12\\x81\\x88\\xf6\\xe9o\\xaf\\xcc\\x9d\\xa6G\\x05\"\\x91\\x8f\\xca\\xff\\x89\\x9aa&\\xfb\\xef\\xd1\\xb9\\x0e\\x86\\xd8\\x85~6d6RL\\xce\\x84\\xbc\\x92I\\xe8\\xd9$\\xbf\\xc0%5Z\\xbfyoY\\xb7\\x90\\x7f\\x8c\\xc8s(\\xe5\\xd5\\x08\\xcaI\\xfd>\\x13Cz\\xb4\\xc3\\xf7\\x07\\x19\\xeb\\xf8\\x0b\\xbb4\\xf5Z\\xd6[,\\xee\\xf3T\\xb5\\xb4L\\xdd\\xf6\\x8b\\xeer\\xf7\\xe2\\xd0\\xb4\\x7f\\xa6\\x8e\\xd7\\xc7^J\\xd2\\xb6\\xc0\"K\\x8ce\\xe1\\xaay\\x84q\\x91\\xab\\xb5\\x10\\xea\\x08\\xe1\\xa25\\xd7\\xeb\\xa4\\xc5\\xd3\\x82\\xcdc4\\xb4\\xf7^\\x15\\xb63\\x99\\x93\\xc4d\\xde\\xbf\\x96\\x9d\\x91)J_\\xe1\\xee<\\xab(\\xfb\\x12\\x183\\xc8\\n\\xb9JQ\\x19\\x96\\x97\\xf9\\x0c\\x1a\\x1a\\x1f\\xf3\\x88\\t~\\xd1i\\xca!\\xc52\\x89\\x16L\\xa7}\\x8f\\xf6\\x1b\\x1f\\'\\xe1\\xb6<\\xe2Q\\x1c\\x13\\xa7\\xda\\xe5LL\\xb9\\xd6d\\x8f\\x88X\\xd9\\xb1/(\\xc9\\xafN\\xaa$\\xa5\\xf7\\xabmS\\xef\\x80\\x08Me~:J\\xb4\\x0c\\x8c\\x01>\\x16Z]d\\x87:J\\xb1&\\xe3\\xf5\\xb3Z\\xb9\\x0c*)]!\\xec}wTT\\xf7\\x99 L\\x02\\x10,{/\\x9a\\xc1\\x14F\\x8fI\\x94B\\xb1/m\\x7f\\xe4\\x1evC\\x11\\x14\\x10\\xe76r&\\xed\\xf7RBE\\xc0\\x94&b\\xea\\xbf^Z\\x9f\\xedT\\xf8\\x8a\\xcb\\x0e\\xf1\\xe2\\xdf\\xde\\xca\\x1f\\xbb\\xc0\\x1c~\\x98\\x87\\xc4\\x9e\\xb0O\\xd2\\x89a\\xe0Hy\\x99\\xb4\\xf5\\xb2\\xf8\\x06]\\xc4\\x01\\xf0::l\\xf8(\\x18\\xbc<*\\x02\\xef\\xad\\x14*\\x8e\\x99\\n\\x92\\x931#{#\\t*\\xca\\xf6m@n\\x06\\xfb\\xcf\\\\\\x0c\\x92\"\\xad\\xc1\\xfa\\x81\\x07j\\xad\\xf5nA]\\xc7\\x8e\"?\\xb3T\\xdf\\xd9\\x14\\xef\\x06W,\\x8b\\x0f\\xff\\xc7\\xfe\\xd5\\x15&=\\x8d\\x13HB\\xcb?\\xb0\\xd7Xh\\tZ:\\x99\\xaaB1(\\x85\\r?\\x04,\\x195N\\x8fvr\\xbf\\x93\\x82[\\xab\\xf4a\\xa7\\xacY/>\\xb8l#\\x95\\xd6\\xa6\\x1fU\\xee\\xba\\x0c\\xfd)\\xa84\\x88\\xb7\\xaf\\x823\\xd4E)\\xb8\\x12h\\xa7\\xect^\\x19\\xac\\x1c&\\x9agT\\xe1)\\x8b\\xabh4eS\\x8d\\xeb\\x9b\\x01`#\\x1b>>R\\\\\\xde-\\xd2\\xab\\xabE!\\xea\\xaf>\\xabl\\xb5\\xe5@\\x18`[+I\\x01\\x1a}\\x8dS\\xaa\\xac?\\x9a\\xf8o\\xd6\\xbaR$pB>\\x0c\\xa7Y\\x00\\x8a5n\\xcaH\\x08\\t\\xa9\\xb0b\\xc8z\\xd8l\\x8a\\xa6w7\\x8dA?\\xcf\\xef\\xe2\\x92s\\xe9\\xb4\\xff+\\xb4-):\\xb1\\xec.<\\x08\\x89\\xb7s\\xf9H\\xd7ZD\\x90\\xe2\"\\x13\\x1b\\x8f\\xb2\\xeb\\n{$\\xe5\\x86\\x7f\\xc3~\\x96\\'\\xd6\\xed\\xba\\x0b\\xc9\\xd0\\xd32*\\x1c$N\\x87\\xae\\xa0\\x84\\\\\\x97\\x84\\x9a/\\xd4\\xfa#\\xdau\\xc7\\xdc\\xad\\xe1|\\xbf\\xe4\\xedW\\xb6R7\\xb1\\x86\\xec/l<\\xb6\\x048\\x1b\\x8fU\\xd3\\xb5-\\xeanC>\\xc8(GTj\\xa6\\x12\\x13R\\xe1=\\xa8y,R\\x0472\\xcb\\x8e\\xbbEi\\xa2\\x81\\xb1\\x9e\\\\\\xbe\\xd8P\\x8b\\xe3\\xbcu\\xc1\\xf6\\xd5N;\\xde\\x12\\x18lk!N\\xafh\\xccj\\xb5\\xef\\x1ccJ\\x9c<\\x93\\x1a\\xeb\\xad\\xcb#\\xfa\\xcd\\x00\\xe9L\\xe4F)\\x03B\\xe444\\xc0\\x83D\\xdfmz;\\x8bz\\xd0\\x8e\\xbf\\xe1V~L\\x7f\\x8e\\xf9y\\x1c\\x1c\\xc0\\xe7o\\xc1\\x1a=y^g}\"\\xa4V\\xd0\\xfa\\xdc\\xe6\\xb9X\\xabg\\xd8\\t\\x93\\x81\\xbb\\x9f\\xb1\\xf5-\\xa7\\x1dsr\\x8d\\xb5`\\xe1\\xa6\\xfc\\xa79\\x8b\\x95\\xa9i1`W4\\xf1\\x9cg'\n",
      "elapsed time snd: 48255000 ns\n"
     ]
    }
   ],
   "source": [
    "N = 10\n",
    "    \n",
    "def fst_cipher():\n",
    "    pwd = b\"password\"\n",
    "    key = derive_key(pwd)\n",
    "    nonce = os.urandom(16)\n",
    "    plaintext = os.urandom(2 ** N)\n",
    "    ciphertext = cifraGCM(nonce, plaintext, key)\n",
    "    return ciphertext\n",
    "\n",
    "def snd_cipher():\n",
    "    pwd = b\"password\"\n",
    "    key = derive_key(pwd)\n",
    "    plaintext = os.urandom(2 ** N)\n",
    "    words = prg(key,N)\n",
    "    ciphertext = cipher(words,plaintext)\n",
    "    return ciphertext\n",
    "\n",
    "start = time.time_ns()\n",
    "fst_text = fst_cipher()\n",
    "stop = time.time_ns()\n",
    "print('encrypted text:', fst_text)\n",
    "print('elapsed time fst:', stop-start, 'ns')\n",
    "\n",
    "start = time.time_ns()\n",
    "snd_text = snd_cipher()\n",
    "stop = time.time_ns()\n",
    "print('encrypted text:', snd_text)\n",
    "print('elapsed time snd:', stop-start, 'ns')"
   ]
  },
  {
   "cell_type": "markdown",
   "metadata": {},
   "source": [
    "Para concluir, "
   ]
  }
 ],
 "metadata": {
  "interpreter": {
   "hash": "b0fa6594d8f4cbf19f97940f81e996739fb7646882a419484c72d19e05852a7e"
  },
  "kernelspec": {
   "display_name": "Python 3.9.10 64-bit",
   "language": "python",
   "name": "python3"
  },
  "language_info": {
   "codemirror_mode": {
    "name": "ipython",
    "version": 3
   },
   "file_extension": ".py",
   "mimetype": "text/x-python",
   "name": "python",
   "nbconvert_exporter": "python",
   "pygments_lexer": "ipython3",
   "version": "3.9.10"
  },
  "orig_nbformat": 4
 },
 "nbformat": 4,
 "nbformat_minor": 2
}
