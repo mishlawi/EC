{
 "cells": [
  {
   "cell_type": "markdown",
   "metadata": {},
   "source": [
    "# Exercicio 2\n",
    "## Criar uma cifra com autenticação de meta-dados a partir de um PRG\n"
   ]
  },
  {
   "cell_type": "markdown",
   "metadata": {},
   "source": [
    "# Alínea a."
   ]
  },
  {
   "cell_type": "markdown",
   "metadata": {},
   "source": [
    "Como objetivo inicial, esperava-se que o nosso grupo implementasse um gerador pseudo-aleatório do usando uma função XOF(\"extended output function\") - SHAKE256 - de forma a gerar uma sequência de palavras, cada uma com 64 bits.\n",
    "\n",
    "\n",
    "Para começar, criamos uma função que recebe a password e a partir de uma *KDF* - no nosso caso decidimos escolher a **PBKDF2HMAC**, mas também poderíamos ter usado a *HKD*. Esta decisão foi tida em conta com a leitura da documentação da lib *Crypthography*, a qual inferia que há diferentes tipos de funções de derivação para diferentes tipos de propósitos. Como o nosso criar uma seed para o gerador, escolhemos um dos que era recomendado. "
   ]
  },
  {
   "cell_type": "code",
   "execution_count": null,
   "metadata": {},
   "outputs": [],
   "source": [
    "def derive_key(password):\n",
    "    salt = os.urandom(16)\n",
    "    kdf = PBKDF2HMAC(\n",
    "        algorithm=hashes.SHA256(),\n",
    "        length=32,\n",
    "        salt=salt,\n",
    "        iterations=100000,\n",
    "        )\n",
    "\n",
    "    return kdf.derive(password)"
   ]
  },
  {
   "cell_type": "markdown",
   "metadata": {},
   "source": [
    "De seguida, e conforme enunciado, era necessário criar o gerador, que tivesse um limite de palavras definido por um valor inicialmente parametrizado como **N**. Com a seed gerada pela *key derivation function* que escolhemos seria possível gerar 2^N palavras de 64 bits cada.\n",
    "Seguindo o requisitado para este projeto, era necessário usar o **SHAKE256** para definir o gerador - como se sabe o *SHAKE256* é uma *extendable-output function* e define-se o seu uso tendo em conta  . \n"
   ]
  },
  {
   "cell_type": "code",
   "execution_count": null,
   "metadata": {},
   "outputs": [],
   "source": [
    "def prg(seed,N):\n",
    "    digest = hashes.Hash(hashes.SHAKE256(8 * pow(2,N))) # sequencia palavras 64 bits / 8 = 8 bytes\n",
    "    digest.update(seed)\n",
    "    msg = digest.finalize()\n",
    "    return msg"
   ]
  },
  {
   "cell_type": "markdown",
   "metadata": {},
   "source": [
    "A partir da sequência de bits representativa da lista de palavras, gerada pelo PRG, conseguimos aplicar a cifra **OTP**. Assumindo a variante construída em 1919, é necessário definir a operação *XOR* em contraste com a sua versão original, criada com adição modular. É então preciso aplicar esta operação    \n"
   ]
  },
  {
   "cell_type": "code",
   "execution_count": null,
   "metadata": {},
   "outputs": [],
   "source": [
    "def cipher(k,msg):\n",
    "    ciphertext = b''\n",
    "    pad = padding.PKCS7(64).padder()\n",
    "    \n",
    "    # adds padding to the last block of bytes of the message -> this garantees that the block size is multiple\n",
    "    # basically stuffs the last block with pad chars \n",
    "    padded = pad.update(msg) + pad.finalize()\n",
    "    # mesage is divided in blocks of 8 bytes\n",
    "    p = pad_divide(padded)\n",
    "\n",
    "    for x in range (len(p)): # Percorre blocos do texto limpo\n",
    "        for bloco, byte in enumerate(p[x]): # Percorre bytes do bloco do texto limpo\n",
    "            ciphertext += bytes([byte ^ k[x:(x+1)*BLOCK][bloco]]) # xor of 2 bit sequences plain text and cipher_key\n",
    "    return ciphertext\n"
   ]
  },
  {
   "cell_type": "markdown",
   "metadata": {},
   "source": []
  },
  {
   "cell_type": "code",
   "execution_count": null,
   "metadata": {},
   "outputs": [],
   "source": [
    "\n",
    "def decipher(k,ciphertext):\n",
    "    plaintext=b''\n",
    "    \n",
    "    p=pad_divide(ciphertext)\n",
    "\n",
    "    for x in range (len(p)): # Percorre blocos do texto cifrado\n",
    "        for bloco, byte in enumerate(p[x]): # Percorre bytes do bloco do texto cifrado\n",
    "            plaintext += bytes([byte ^ k[x:(x+1)*BLOCK][bloco]]) \n",
    "    \n",
    "    # Algoritmo para retirar padding para decifragem\n",
    "    unpadder = padding.PKCS7(64).unpadder()\n",
    "    # Retira bytes adicionados \n",
    "    unpadded = unpadder.update(plaintext) + unpadder.finalize()\n",
    "    return unpadded.decode(\"utf-8\")"
   ]
  }
 ],
 "metadata": {
  "language_info": {
   "name": "python"
  },
  "orig_nbformat": 4
 },
 "nbformat": 4,
 "nbformat_minor": 2
}
