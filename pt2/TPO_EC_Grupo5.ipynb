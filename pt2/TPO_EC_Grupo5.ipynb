{
 "cells": [
  {
   "cell_type": "code",
   "execution_count": 1,
   "metadata": {},
   "outputs": [],
   "source": [
    "import os\n",
    "from cryptography.hazmat.primitives import hashes, hmac\n",
    "from cryptography.hazmat.primitives.kdf.hkdf import HKDF\n",
    "from cryptography.hazmat.primitives.ciphers.aead import AESGCM\n",
    "from cryptography.hazmat.primitives.asymmetric import dh"
   ]
  },
  {
   "cell_type": "markdown",
   "metadata": {},
   "source": [
    "# Exercício 1\n",
    "\n",
    "#### Neste exercício é pedido que se crie uma comunicação privada assíncrona entre um agente Emitter e um agente Receiver que cubra alguns aspetos enunciados a seguir."
   ]
  },
  {
   "cell_type": "markdown",
   "metadata": {},
   "source": [
    "Começamos por desenvolver uma função para derivar uma chave, baseada no funcionamento do protocolo DH para geração de chaves privadas e públicas. Para este protocolo, é necessário gerar parâmetros que devem ser os mesmos para os dois agentes e podem ser reutilizados.<br>\n",
    "Inicialmente, gera-se a chave privada e depois é feita a troca com uma chave pública recebida (que será do outro agente com quem se está a comunicar) que irá gerar uma chave partilhada (a mesma nos dois agentes). Esta chave é ainda passada a uma função de derivação de chaves, para permitir uma mistura de informação que a torna mais segura.<br>\n",
    "Para a chave poder ser gerada, é preciso saber a chave pública do outro agente, para isso, foi também criada uma função que devolve a chave pública gerada."
   ]
  },
  {
   "cell_type": "code",
   "execution_count": 2,
   "metadata": {},
   "outputs": [],
   "source": [
    "parameters = dh.generate_parameters(generator=2, key_size=1024)\n",
    "\n",
    "def get_public_key(private_key):\n",
    "        return private_key.public_key()\n",
    "\n",
    "def derivate_key(private_key,public):\n",
    "        shared_key = private_key.exchange(public)\n",
    "        \n",
    "        derived_key = HKDF(\n",
    "            algorithm=hashes.SHA256(),\n",
    "            length=32,\n",
    "            salt=None,\n",
    "            info=b'handshake data',\n",
    "        ).derive(shared_key)\n",
    "\n",
    "        return derived_key"
   ]
  },
  {
   "cell_type": "markdown",
   "metadata": {},
   "source": [
    "Depois da chave gerada, é o momento de enviar a mensagem para o agente Receiver.<br>\n",
    "Para isso, é primeiro gerada uma assinatura, usando o HMAC que será concatenada com a mensagem cifrada e enviada ao Receiver para que este possa verificar o remetente."
   ]
  },
  {
   "cell_type": "code",
   "execution_count": 3,
   "metadata": {},
   "outputs": [],
   "source": [
    "def auth(message,derived_key):\n",
    "        h = hmac.HMAC(derived_key, hashes.SHA256())\n",
    "        h.update(message)\n",
    "        return h.finalize()"
   ]
  },
  {
   "cell_type": "markdown",
   "metadata": {},
   "source": [
    "De seguida, é usada a função *urandom()* do pacote *os* do *python* para gerar o *nonce* necessário para cifrar a mensagem.<br>\n",
    "A cifra usada foi a AESGCM. Depois de tudo gerado e da mensagem cifrada, esta é concatenada à assinatura e ao *nonce* e enviada para o Receiver."
   ]
  },
  {
   "cell_type": "code",
   "execution_count": 9,
   "metadata": {},
   "outputs": [],
   "source": [
    "def send_message(message,derived_key):\n",
    "        signature = auth(b'this is a message to check the signature',derived_key)\n",
    "        message = message.encode('utf-8')\n",
    "        nonce = os.urandom(16)\n",
    "        aesgcm = AESGCM(derived_key)\n",
    "        ct = aesgcm.encrypt(nonce, message, b'some associated data')\n",
    "\n",
    "        return signature + nonce + ct"
   ]
  },
  {
   "cell_type": "markdown",
   "metadata": {},
   "source": [
    "Do lado do Receiver, os dados são recebidos e desempacotados."
   ]
  },
  {
   "cell_type": "code",
   "execution_count": 10,
   "metadata": {},
   "outputs": [],
   "source": [
    "def unpack_data(dados):\n",
    "      signature = dados[0:32]\n",
    "      nonce = dados[32:32+16]\n",
    "      ct = dados[32+16:]\n",
    "\n",
    "      return signature, nonce, ct"
   ]
  },
  {
   "cell_type": "markdown",
   "metadata": {},
   "source": [
    "Depois de ter os dados desempacotaos e separados, é necessário fazer a verificação da assinatira da mensagem recebida. Novamente, usando o HMAC."
   ]
  },
  {
   "cell_type": "code",
   "execution_count": 11,
   "metadata": {},
   "outputs": [],
   "source": [
    "def verify(signature,derived_key):\n",
    "      h = hmac.HMAC(derived_key, hashes.SHA256())\n",
    "      h.update(b'this is a message to check the signature')\n",
    "      return h.verify(signature)"
   ]
  },
  {
   "cell_type": "markdown",
   "metadata": {},
   "source": [
    "Se a assinatura for verificada, passa-se então à decifragem da mensagem pela cifra AESGCM."
   ]
  },
  {
   "cell_type": "code",
   "execution_count": 14,
   "metadata": {},
   "outputs": [],
   "source": [
    "def read_message(ct, derived_key):\n",
    "      signature, nonce, ct = unpack_data(ct)\n",
    "      try :\n",
    "          # verifica se o digest gerado acima é igual ao digest recebido como parâmetro\n",
    "          verify(signature,derived_key)\n",
    "      except:\n",
    "          raise Exception(\"Falha na autenticidade da chave\") \n",
    "\n",
    "      aesgcm = AESGCM(derived_key)\n",
    "      texto_limpo = aesgcm.decrypt(nonce, ct, b'some associated data')\n",
    "    \n",
    "      return texto_limpo.decode('utf-8')"
   ]
  },
  {
   "cell_type": "markdown",
   "metadata": {},
   "source": [
    "Finalmente, enviamos a mensagem do Emitter para o Receiver."
   ]
  },
  {
   "cell_type": "code",
   "execution_count": 17,
   "metadata": {},
   "outputs": [
    {
     "name": "stdout",
     "output_type": "stream",
     "text": [
      "encrypted text: b'\\xae\\xd1H;Tr\\xea\\xd5\\x05\\xc7\\x96\\xbf}9\\xa4\\xceT\\xdbO\\x1b\\tH\\x84#\\x8a\\xf9\\xdb\\xffrl\\xe4\\x83\\x8f\\x94\\xe5\\x7f\\x8d3\\x19\\x10\\xa6\\x92\\\\y\\x85o\\x9f\\xa4\\xe35\\x87\\xc3\\xc2\\xe6\\x11s\\x87.*\\xfc\\xfa\\x87\\x9e \\xba\\xee\\xce\\xf4|\\xb3\\xc9\\xa0\\x87O\\xf0 k\\x1eZ\\xb4\\x15+G\\x98F.\\xdd\\n\\xfb\\xfb9VC\\x90\\x83\\xf78\\xb3\\xa7W\\xcd\\x90F[\\xac\\xc7q\\xc1\\xd8[\\x01\\x1e\\xb4R+\\n.\\x07\\xb556\\xa4D8\\x1f+\\x19\\x03\\x18\\xbb\\xec\\xd1\\xdf'\n",
      "decrypted text: Estruturas Criptográficas é uma unidade curricular do perfil de CSI\n"
     ]
    }
   ],
   "source": [
    "def main():\n",
    "    rv_private_key = parameters.generate_private_key()\n",
    "    em_private_key = parameters.generate_private_key()\n",
    "    em_derived_key = derivate_key(em_private_key,get_public_key(rv_private_key))\n",
    "    rv_derived_key = derivate_key(rv_private_key,get_public_key(em_private_key))\n",
    "    \n",
    "    dados = send_message(\"Estruturas Criptográficas é uma unidade curricular do perfil de CSI\", em_derived_key)\n",
    "    print('encrypted text:',dados)\n",
    "\n",
    "    try:\n",
    "        pt = read_message(dados,rv_derived_key)\n",
    "\n",
    "        print('decrypted text:', pt)\n",
    "    except:\n",
    "        print(\"Falha na autenticação da chave\")  \n",
    "\n",
    "main()"
   ]
  },
  {
   "cell_type": "markdown",
   "metadata": {},
   "source": [
    "# Exercicio 2\n",
    "## Criar uma cifra com autenticação de meta-dados a partir de um PRG\n"
   ]
  },
  {
   "cell_type": "markdown",
   "metadata": {},
   "source": [
    "Como objetivo inicial, esperava-se que o nosso grupo implementasse um gerador pseudo-aleatório do usando uma função XOF(\"extended output function\") - SHAKE256 - de forma a gerar uma sequência de palavras, cada uma com 64 bits.\n",
    "\n",
    "\n",
    "Para começar, criamos uma função que recebe a password e a partir de uma *KDF* - no nosso caso decidimos escolher a **PBKDF2HMAC**, mas também poderíamos ter usado a *HKD*. Esta decisão foi tida em conta com a leitura da documentação da lib *Crypthography*, a qual inferia que há diferentes tipos de funções de derivação para diferentes tipos de propósitos. Como o nosso objetivo seria criar uma seed para o gerador, escolhemos um dos que era recomendado. "
   ]
  },
  {
   "cell_type": "code",
   "execution_count": null,
   "metadata": {},
   "outputs": [],
   "source": [
    "def derive_key(password):\n",
    "    salt = os.urandom(16)\n",
    "    kdf = PBKDF2HMAC(\n",
    "        algorithm=hashes.SHA256(),\n",
    "        length=32,\n",
    "        salt=salt,\n",
    "        iterations=100000,\n",
    "        )\n",
    "\n",
    "    return kdf.derive(password)"
   ]
  },
  {
   "cell_type": "markdown",
   "metadata": {},
   "source": [
    "De seguida, e conforme enunciado, era necessário criar o gerador, que tivesse um limite de palavras definido por um valor inicialmente parametrizado como **N**. Com a seed gerada pela *key derivation function* que escolhemos seria possível gerar 2^N palavras de 64 bits cada.\n",
    "Seguindo o requisitado para este projeto, era necessário usar o **SHAKE256** para definir o gerador - como se sabe o *SHAKE256* é uma *extendable-output function* e define-se o seu uso tendo em conta a necessidade de autenticação do criptograma e geração de palavras usando uma XOF. \n"
   ]
  },
  {
   "cell_type": "code",
   "execution_count": null,
   "metadata": {},
   "outputs": [],
   "source": [
    "def prg(seed,N):\n",
    "    digest = hashes.Hash(hashes.SHAKE256(8 * pow(2,N))) # sequencia palavras 64 bits / 8 = 8 bytes\n",
    "    digest.update(seed)\n",
    "    msg = digest.finalize()\n",
    "    return msg"
   ]
  },
  {
   "cell_type": "markdown",
   "metadata": {},
   "source": [
    "A partir da sequência de bits representativa da lista de palavras, gerada pelo PRG, conseguimos aplicar a cifra **OTP**.\n",
    "Assumindo a variante construída em 1919, é necessário definir a operação *XOR* em contraste com a sua versão original, criada com adição modular. É então preciso aplicar esta operação ao processo de cifragem e decifragem, sendo que, a partir de duas sequências de bytes é aplicado o XOR a ambas.\n"
   ]
  },
  {
   "cell_type": "code",
   "execution_count": null,
   "metadata": {},
   "outputs": [],
   "source": [
    "BLOCK = 8 # bytes; representativo de cada bloco que define uma palavra (64 bits)"
   ]
  },
  {
   "cell_type": "code",
   "execution_count": null,
   "metadata": {},
   "outputs": [],
   "source": [
    "def pad_divide(message):\n",
    "    x = []\n",
    "    for i in range (0,len(message), BLOCK):\n",
    "        next = i+BLOCK\n",
    "        x.append(message[i:next])\n",
    "    return x"
   ]
  },
  {
   "cell_type": "markdown",
   "metadata": {},
   "source": [
    "É importante denotar o mecanismo associado a estes processos de cifragem e decifragem. Inicialmente é feito o *padding*, de forma a que os blocos de mensagens sejam garantidamente múltiplos. Após isto, e para simplicidade prática,é necessário dividir a mensagem em blocos de 8 bytes, cada um representando uma palavra."
   ]
  },
  {
   "cell_type": "code",
   "execution_count": null,
   "metadata": {},
   "outputs": [],
   "source": [
    "def cipher(k,msg):\n",
    "    ciphertext = b''\n",
    "    pad = padding.PKCS7(64).padder()\n",
    "    \n",
    "    padded = pad.update(msg) + pad.finalize()\n",
    "    p = pad_divide(padded)\n",
    "\n",
    "    for x in range (len(p)): # Percorre blocos do texto limpo\n",
    "        for bloco, byte in enumerate(p[x]): # Percorre bytes do bloco do texto limpo\n",
    "            ciphertext += bytes([byte ^ k[x:(x+1)*BLOCK][bloco]]) # xor of 2 bit sequences plain text and cipher_key\n",
    "    return ciphertext\n"
   ]
  },
  {
   "cell_type": "code",
   "execution_count": null,
   "metadata": {},
   "outputs": [],
   "source": [
    "\n",
    "def decipher(k,ciphertext):\n",
    "    plaintext=b''\n",
    "    \n",
    "    p=pad_divide(ciphertext)\n",
    "\n",
    "    for x in range (len(p)): # Percorre blocos do texto cifrado\n",
    "        for bloco, byte in enumerate(p[x]): # Percorre bytes do bloco do texto cifrado\n",
    "            plaintext += bytes([byte ^ k[x:(x+1)*BLOCK][bloco]]) \n",
    "    \n",
    "    # Algoritmo para retirar padding para decifragem\n",
    "    unpadder = padding.PKCS7(64).unpadder()\n",
    "    # Retira bytes adicionados \n",
    "    unpadded = unpadder.update(plaintext) + unpadder.finalize()\n",
    "    return unpadded.decode(\"utf-8\")"
   ]
  },
  {
   "cell_type": "code",
   "execution_count": null,
   "metadata": {},
   "outputs": [],
   "source": [
    "    \n",
    "cipher_key = derive_key(b'password')\n",
    "msg = prg(cipher_key,2)\n",
    "mensagem = b\"Ultra secret message\"\n",
    "\n",
    "ct = cipher(msg,mensagem)\n",
    "dt = decipher(msg,ct)\n",
    "\n",
    "\n",
    "print(\"OG TEXT: \", mensagem)\n",
    "print(\"CT:  \", ct)\n",
    "print(\"DT:  \", dt)"
   ]
  }
 ],
 "metadata": {
  "interpreter": {
   "hash": "b0fa6594d8f4cbf19f97940f81e996739fb7646882a419484c72d19e05852a7e"
  },
  "kernelspec": {
   "display_name": "Python 3.9.10 64-bit",
   "language": "python",
   "name": "python3"
  },
  "language_info": {
   "codemirror_mode": {
    "name": "ipython",
    "version": 3
   },
   "file_extension": ".py",
   "mimetype": "text/x-python",
   "name": "python",
   "nbconvert_exporter": "python",
   "pygments_lexer": "ipython3",
   "version": "3.9.10"
  },
  "orig_nbformat": 4
 },
 "nbformat": 4,
 "nbformat_minor": 2
}
